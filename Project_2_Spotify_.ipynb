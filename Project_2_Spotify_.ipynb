{
  "nbformat": 4,
  "nbformat_minor": 0,
  "metadata": {
    "colab": {
      "provenance": [],
      "authorship_tag": "ABX9TyN7mgBJkGNBNZ7Ah8KQICGT",
      "include_colab_link": true
    },
    "kernelspec": {
      "name": "python3",
      "display_name": "Python 3"
    },
    "language_info": {
      "name": "python"
    }
  },
  "cells": [
    {
      "cell_type": "markdown",
      "metadata": {
        "id": "view-in-github",
        "colab_type": "text"
      },
      "source": [
        "<a href=\"https://colab.research.google.com/github/Madhu2s6361/Project-2_Spotify-AI-Intern-/blob/main/Project_2_Spotify_.ipynb\" target=\"_parent\"><img src=\"https://colab.research.google.com/assets/colab-badge.svg\" alt=\"Open In Colab\"/></a>"
      ]
    },
    {
      "cell_type": "markdown",
      "source": [
        "#Project-2_Spotify\n",
        "\n",
        "Build an AI model that recommends songs based on user-selected genres and mood using Spotify dataset features (danceability, valence, energy, tempo). The model clusters songs using K-Means and uses cosine similarity for genre-based recommendations\n",
        "\n",
        "\n",
        "\n",
        "****The perform the following tasks step by step in Python:\n",
        "\n",
        "---> Data Pre-processing\n",
        "\n",
        "---> Data Analysis & Visualization (various plots)\n",
        "\n",
        "---> Correlation Matrix\n",
        "\n",
        "--->Clustering (by playlist genres/names)\n",
        "\n",
        "---> Building a Recommendation Model\n",
        "\n",
        "\n",
        "\n",
        "\n",
        "\n",
        "\n",
        "***pandas, numpy → handle and analyze data\n",
        "\n",
        "***plotly.express → create interactive plots\n",
        "\n",
        "***streamlit → build a web app interface\n",
        "\n",
        "***sklearn.preprocessing.StandardScaler → normalize feature values\n",
        "\n",
        "***KMeans, silhouette_score → clustering model\n",
        "\n",
        "***cosine_similarity → find similar songs for recommendations"
      ],
      "metadata": {
        "id": "LCN2l0X3830a"
      }
    },
    {
      "cell_type": "code",
      "source": [],
      "metadata": {
        "id": "XhxeIrXR8_sG"
      },
      "execution_count": null,
      "outputs": []
    }
  ]
}